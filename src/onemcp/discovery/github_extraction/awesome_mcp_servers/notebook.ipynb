{
 "cells": [
  {
   "cell_type": "code",
   "execution_count": null,
   "id": "c0a1e602",
   "metadata": {},
   "outputs": [],
   "source": [
    "%load_ext autoreload\n",
    "%autoreload 2\n",
    "\n",
    "import github_utils as gutils"
   ]
  },
  {
   "cell_type": "code",
   "execution_count": null,
   "id": "d0211303",
   "metadata": {},
   "outputs": [],
   "source": [
    "# 1: Extract the URLS from the curated list\n",
    "url = \"https://raw.githubusercontent.com/punkpeye/awesome-mcp-servers/refs/heads/main/README.md\"\n",
    "urls = gutils.get_awesome_mcp_servers_urls(url)"
   ]
  },
  {
   "cell_type": "code",
   "execution_count": null,
   "id": "d18d5464",
   "metadata": {},
   "outputs": [],
   "source": [
    "# 2: Batch extract github info from each link\n",
    "saved_results_filename = \"awesome_mcp_servers.json\"\n",
    "gutils.batch_extract_mcp_urls(urls=urls, saved_results_filename=saved_results_filename)"
   ]
  }
 ],
 "metadata": {
  "kernelspec": {
   "display_name": ".venv (3.12.10)",
   "language": "python",
   "name": "python3"
  },
  "language_info": {
   "codemirror_mode": {
    "name": "ipython",
    "version": 3
   },
   "file_extension": ".py",
   "mimetype": "text/x-python",
   "name": "python",
   "nbconvert_exporter": "python",
   "pygments_lexer": "ipython3",
   "version": "3.12.10"
  }
 },
 "nbformat": 4,
 "nbformat_minor": 5
}
